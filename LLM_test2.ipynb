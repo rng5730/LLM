{
 "cells": [
  {
   "cell_type": "code",
   "execution_count": 1,
   "id": "36586149-32dd-43c6-9d74-2be4c11b6938",
   "metadata": {},
   "outputs": [],
   "source": [
    "#!py -m pip install nltk"
   ]
  },
  {
   "cell_type": "code",
   "execution_count": 2,
   "id": "5fa9dd5e-4241-4f8a-8807-0cec018f949c",
   "metadata": {},
   "outputs": [],
   "source": [
    "#Packages\n",
    "\n",
    "import nltk\n",
    "import random\n",
    "from nltk import word_tokenize, sent_tokenize\n",
    "from nltk.lm import MLE\n",
    "from nltk.lm.preprocessing import padded_everygram_pipeline"
   ]
  },
  {
   "cell_type": "code",
   "execution_count": 1,
   "id": "c7fe40c4-274b-46ee-9785-73d67df720ca",
   "metadata": {},
   "outputs": [],
   "source": [
    "#Dataset\n",
    "\n",
    "old_text = \"your_previous_text_data\"\n",
    "new_text = \"your_new_text_data\"\n",
    "combined_text = old_text + \" \" + new_text"
   ]
  },
  {
   "cell_type": "code",
   "execution_count": null,
   "id": "e594fd51-0f36-4e79-bfdc-ed3ca4397781",
   "metadata": {},
   "outputs": [],
   "source": []
  }
 ],
 "metadata": {
  "kernelspec": {
   "display_name": "Python 3 (ipykernel)",
   "language": "python",
   "name": "python3"
  },
  "language_info": {
   "codemirror_mode": {
    "name": "ipython",
    "version": 3
   },
   "file_extension": ".py",
   "mimetype": "text/x-python",
   "name": "python",
   "nbconvert_exporter": "python",
   "pygments_lexer": "ipython3",
   "version": "3.11.7"
  }
 },
 "nbformat": 4,
 "nbformat_minor": 5
}
