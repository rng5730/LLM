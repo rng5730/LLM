{
 "cells": [
  {
   "cell_type": "code",
   "execution_count": 31,
   "id": "219c301f-f245-47e0-b074-66c57180c67b",
   "metadata": {},
   "outputs": [
    {
     "name": "stdout",
     "output_type": "stream",
     "text": [
      "cuda\n"
     ]
    }
   ],
   "source": [
    "import torch\n",
    "import numpy as np\n",
    "import time\n",
    "device = 'cuda' if torch.cuda.is_available() else 'cpu'\n",
    "print(device)"
   ]
  },
  {
   "cell_type": "code",
   "execution_count": 2,
   "id": "724368cb-f1bb-442f-ad40-6fd1dc1a7480",
   "metadata": {},
   "outputs": [
    {
     "data": {
      "text/plain": [
       "tensor([ 71,  31, -46,   9, -74, -86])"
      ]
     },
     "execution_count": 2,
     "metadata": {},
     "output_type": "execute_result"
    }
   ],
   "source": [
    "#Random tensor\n",
    "\n",
    "randint = torch.randint(-100, 100, (6,))\n",
    "randint"
   ]
  },
  {
   "cell_type": "code",
   "execution_count": 3,
   "id": "8c291d6f-77cd-45f3-adc0-ac54a8b5c964",
   "metadata": {},
   "outputs": [
    {
     "data": {
      "text/plain": [
       "tensor([[0.1000, 1.2000],\n",
       "        [2.2000, 3.1000],\n",
       "        [4.9000, 5.2000]])"
      ]
     },
     "execution_count": 3,
     "metadata": {},
     "output_type": "execute_result"
    }
   ],
   "source": [
    "#Tensor\n",
    "\n",
    "tensor = torch.tensor([[0.1, 1.2], [2.2, 3.1], [4.9, 5.2]])\n",
    "tensor"
   ]
  },
  {
   "cell_type": "code",
   "execution_count": 4,
   "id": "7c119c26-e24e-44b8-8712-4ca851352f28",
   "metadata": {},
   "outputs": [
    {
     "data": {
      "text/plain": [
       "tensor([[0., 0., 0.],\n",
       "        [0., 0., 0.]])"
      ]
     },
     "execution_count": 4,
     "metadata": {},
     "output_type": "execute_result"
    }
   ],
   "source": [
    "#Zeros tensor\n",
    "\n",
    "zeros = torch.zeros(2, 3)\n",
    "zeros"
   ]
  },
  {
   "cell_type": "code",
   "execution_count": 8,
   "id": "ce1da1a9-e940-4bba-bce5-0253f3426828",
   "metadata": {},
   "outputs": [
    {
     "data": {
      "text/plain": [
       "tensor([[1., 1., 1., 1.],\n",
       "        [1., 1., 1., 1.],\n",
       "        [1., 1., 1., 1.]])"
      ]
     },
     "execution_count": 8,
     "metadata": {},
     "output_type": "execute_result"
    }
   ],
   "source": [
    "#Ones tensor\n",
    "\n",
    "ones  = torch.ones(3, 4)\n",
    "ones"
   ]
  },
  {
   "cell_type": "code",
   "execution_count": 9,
   "id": "1b095db3-e342-4f21-976e-468bbdc24196",
   "metadata": {},
   "outputs": [
    {
     "data": {
      "text/plain": [
       "tensor([[0., 0., 0.],\n",
       "        [0., 0., 0.]])"
      ]
     },
     "execution_count": 9,
     "metadata": {},
     "output_type": "execute_result"
    }
   ],
   "source": [
    "#Input\n",
    "\n",
    "input = torch.empty(2, 3)\n",
    "input"
   ]
  },
  {
   "cell_type": "code",
   "execution_count": 10,
   "id": "11a33994-f1e7-4976-a76f-a415e1e8ff13",
   "metadata": {},
   "outputs": [
    {
     "data": {
      "text/plain": [
       "tensor([0, 1, 2, 3, 4])"
      ]
     },
     "execution_count": 10,
     "metadata": {},
     "output_type": "execute_result"
    }
   ],
   "source": [
    "#arange\n",
    "\n",
    "arange = torch.arange(5)\n",
    "arange"
   ]
  },
  {
   "cell_type": "code",
   "execution_count": 14,
   "id": "8807f77b-9f1b-480b-85df-3618504abe9a",
   "metadata": {},
   "outputs": [
    {
     "data": {
      "text/plain": [
       "tensor([ 3.0000,  4.7500,  6.5000,  8.2500, 10.0000])"
      ]
     },
     "execution_count": 14,
     "metadata": {},
     "output_type": "execute_result"
    }
   ],
   "source": [
    "#Line Space\n",
    "\n",
    "linspace = torch.linspace(3, 10, steps=5)\n",
    "linspace"
   ]
  },
  {
   "cell_type": "code",
   "execution_count": 16,
   "id": "3b253047-ffb3-4fd8-88b4-cce04a453a29",
   "metadata": {},
   "outputs": [
    {
     "data": {
      "text/plain": [
       "tensor([1.0000e-10, 1.0000e-05, 1.0000e+00, 1.0000e+05, 1.0000e+10])"
      ]
     },
     "execution_count": 16,
     "metadata": {},
     "output_type": "execute_result"
    }
   ],
   "source": [
    "logspace =  torch.logspace(start=-10, end=10, steps=5)\n",
    "logspace"
   ]
  },
  {
   "cell_type": "code",
   "execution_count": 17,
   "id": "c4ccab32-6d89-4bb3-b362-ab1b6fb530c7",
   "metadata": {},
   "outputs": [
    {
     "data": {
      "text/plain": [
       "tensor([[1., 0., 0., 0., 0.],\n",
       "        [0., 1., 0., 0., 0.],\n",
       "        [0., 0., 1., 0., 0.],\n",
       "        [0., 0., 0., 1., 0.],\n",
       "        [0., 0., 0., 0., 1.]])"
      ]
     },
     "execution_count": 17,
     "metadata": {},
     "output_type": "execute_result"
    }
   ],
   "source": [
    "eye =  torch.eye(5)\n",
    "eye"
   ]
  },
  {
   "cell_type": "code",
   "execution_count": 20,
   "id": "e3906b62-8748-4c14-8955-c16ca06dcad2",
   "metadata": {},
   "outputs": [
    {
     "data": {
      "text/plain": [
       "tensor([[3084776381680,             0,             0],\n",
       "        [            0,             0,             0]])"
      ]
     },
     "execution_count": 20,
     "metadata": {},
     "output_type": "execute_result"
    }
   ],
   "source": [
    "a = torch.empty((2,3), dtype=torch.int64)\n",
    "empty_like = torch.empty_like(a)\n",
    "empty_like"
   ]
  },
  {
   "cell_type": "code",
   "execution_count": 32,
   "id": "887fad7a-d3ea-433c-9877-28cd45801768",
   "metadata": {},
   "outputs": [
    {
     "name": "stderr",
     "output_type": "stream",
     "text": [
      "UsageError: Line magic function `%%time` not found.\n"
     ]
    }
   ],
   "source": [
    "#Comparing GPU to CPU using pytorch\n",
    "\n",
    "%%time\n",
    "start_time = time.time()\n",
    "# matrix operations here\n",
    "zeros = torch.zeros(1, 1)\n",
    "end_time = time.time()\n",
    "\n",
    "elapsed_time = end_time - start_time\n",
    "print(f\"{elapsed_time:.8f}\")"
   ]
  },
  {
   "cell_type": "code",
   "execution_count": 29,
   "id": "5cf77ad0-6d62-47e8-8751-dc96dd445600",
   "metadata": {},
   "outputs": [
    {
     "name": "stdout",
     "output_type": "stream",
     "text": [
      "0.03618336\n",
      "0.22024536\n"
     ]
    }
   ],
   "source": [
    "torch_rand1 = torch.rand(100, 100, 100, 100).to(device)\n",
    "torch_rand2 = torch.rand(100, 100, 100, 100).to(device)\n",
    "np_rand1 = torch.rand(100, 100, 100, 100)\n",
    "np_rand2 = torch.rand(100, 100, 100, 100)\n",
    "\n",
    "start_time = time.time()\n",
    "\n",
    "rand = (torch_rand1 @ torch_rand2)\n",
    "\n",
    "end_time = time.time()\n",
    "\n",
    "elapsed_time = end_time - start_time\n",
    "print(f\"{elapsed_time:.8f}\")\n",
    "\n",
    "\n",
    "start_time = time.time()\n",
    "\n",
    "rand = np.multiply(np_rand1, np_rand2)\n",
    "end_time = time.time()\n",
    "elapsed_time = end_time - start_time\n",
    "print(f\"{elapsed_time:.8f}\")"
   ]
  },
  {
   "cell_type": "code",
   "execution_count": 34,
   "id": "30ee87a2-cf89-40f7-9378-f5f132b0445e",
   "metadata": {},
   "outputs": [
    {
     "name": "stdout",
     "output_type": "stream",
     "text": [
      "tensor([1, 1, 1, 1, 0, 1, 1, 1, 1, 1])\n"
     ]
    }
   ],
   "source": [
    "# embeddings, torch.stack, torch.multinomial, torch.tril, torch.triu, input.T / input.transpose, nn.Linear, torch.cat, F.softmax (show all the examples of functions/methods with pytorch docs)\n",
    "\n",
    "\n",
    "# Define a probability tensor\n",
    "probabilities = torch.tensor([0.1, 0.9])\n",
    "# 10% or 0.1 => 0, 90% or 0.9 => 1. each probability points to the index of the probability in the tensor\n",
    "# Draw 5 samples from the multinomial distribution\n",
    "samples = torch.multinomial(probabilities, num_samples=10, replacement=True)\n",
    "print(samples)"
   ]
  },
  {
   "cell_type": "code",
   "execution_count": 35,
   "id": "cbe4f453-59a0-4be1-a005-7092d79aae99",
   "metadata": {},
   "outputs": [
    {
     "data": {
      "text/plain": [
       "tensor([1, 2, 3, 4, 5])"
      ]
     },
     "execution_count": 35,
     "metadata": {},
     "output_type": "execute_result"
    }
   ],
   "source": [
    "tensor = torch.tensor([1, 2, 3, 4])\n",
    "out = torch.cat((tensor, torch.tensor([5])), dim=0)\n",
    "out"
   ]
  },
  {
   "cell_type": "code",
   "execution_count": 36,
   "id": "9e1ad57b-e2f8-4cfd-a0d6-50d0d320ff81",
   "metadata": {},
   "outputs": [
    {
     "data": {
      "text/plain": [
       "tensor([[1., 0., 0., 0., 0.],\n",
       "        [1., 1., 0., 0., 0.],\n",
       "        [1., 1., 1., 0., 0.],\n",
       "        [1., 1., 1., 1., 0.],\n",
       "        [1., 1., 1., 1., 1.]])"
      ]
     },
     "execution_count": 36,
     "metadata": {},
     "output_type": "execute_result"
    }
   ],
   "source": [
    "out = torch.tril(torch.ones(5, 5))\n",
    "out"
   ]
  },
  {
   "cell_type": "code",
   "execution_count": 37,
   "id": "c0f7b8ec-4f7a-4b7e-a846-f8f28b2207c0",
   "metadata": {},
   "outputs": [
    {
     "data": {
      "text/plain": [
       "tensor([[1., 1., 1., 1., 1.],\n",
       "        [0., 1., 1., 1., 1.],\n",
       "        [0., 0., 1., 1., 1.],\n",
       "        [0., 0., 0., 1., 1.],\n",
       "        [0., 0., 0., 0., 1.]])"
      ]
     },
     "execution_count": 37,
     "metadata": {},
     "output_type": "execute_result"
    }
   ],
   "source": [
    "out = torch.triu(torch.ones(5, 5))\n",
    "out"
   ]
  },
  {
   "cell_type": "code",
   "execution_count": 38,
   "id": "c60c5a78-6984-410d-872f-cc5a604d73ac",
   "metadata": {},
   "outputs": [
    {
     "data": {
      "text/plain": [
       "tensor([[0., -inf, -inf, -inf, -inf],\n",
       "        [0., 0., -inf, -inf, -inf],\n",
       "        [0., 0., 0., -inf, -inf],\n",
       "        [0., 0., 0., 0., -inf],\n",
       "        [0., 0., 0., 0., 0.]])"
      ]
     },
     "execution_count": 38,
     "metadata": {},
     "output_type": "execute_result"
    }
   ],
   "source": [
    "out = torch.zeros(5, 5).masked_fill(torch.tril(torch.ones(5, 5)) == 0, float('-inf'))\n",
    "out"
   ]
  },
  {
   "cell_type": "code",
   "execution_count": 39,
   "id": "a2022252-71df-47b9-b99c-a7e34c6d7c04",
   "metadata": {},
   "outputs": [
    {
     "data": {
      "text/plain": [
       "tensor([[1., 0., 0., 0., 0.],\n",
       "        [1., 1., 0., 0., 0.],\n",
       "        [1., 1., 1., 0., 0.],\n",
       "        [1., 1., 1., 1., 0.],\n",
       "        [1., 1., 1., 1., 1.]])"
      ]
     },
     "execution_count": 39,
     "metadata": {},
     "output_type": "execute_result"
    }
   ],
   "source": [
    "torch.exp(out)"
   ]
  },
  {
   "cell_type": "code",
   "execution_count": 40,
   "id": "2d75b038-ef0d-4ecc-acb1-0982a3b753e9",
   "metadata": {},
   "outputs": [
    {
     "name": "stdout",
     "output_type": "stream",
     "text": [
      "torch.Size([3, 2, 4])\n",
      "torch.Size([2, 4, 3])\n"
     ]
    }
   ],
   "source": [
    "input = torch.zeros(2, 3, 4)\n",
    "out1 = input.transpose(0, 1)\n",
    "out2 = input.transpose(-2,-1)\n",
    "print(out1.shape)\n",
    "print(out2.shape)\n",
    "# torch.permute works the same but you provide the new order of dimensions instead of the dimensions you'd like to swap."
   ]
  },
  {
   "cell_type": "code",
   "execution_count": 41,
   "id": "ff6f8522-36b1-4fe5-a134-57971cf1bdef",
   "metadata": {},
   "outputs": [
    {
     "data": {
      "text/plain": [
       "tensor([[1, 2, 3],\n",
       "        [4, 5, 6],\n",
       "        [7, 8, 9]])"
      ]
     },
     "execution_count": 41,
     "metadata": {},
     "output_type": "execute_result"
    }
   ],
   "source": [
    "tensor1 = torch.tensor([1, 2, 3])\n",
    "tensor2 = torch.tensor([4, 5, 6])\n",
    "tensor3 = torch.tensor([7, 8, 9])\n",
    "\n",
    "# Stack the tensors along a new dimension\n",
    "stacked_tensor = torch.stack([tensor1, tensor2, tensor3])\n",
    "stacked_tensor"
   ]
  },
  {
   "cell_type": "code",
   "execution_count": 50,
   "id": "bafcd0d6-36fc-4930-9142-3ae4ed03e699",
   "metadata": {},
   "outputs": [
    {
     "name": "stdout",
     "output_type": "stream",
     "text": [
      "tensor([10., 10., 10.])\n",
      "tensor([-0.2186,  4.3533,  1.3233], grad_fn=<SqueezeBackward4>)\n"
     ]
    }
   ],
   "source": [
    "import torch.nn as nn\n",
    "sample = torch.tensor([10.,10.,10.])\n",
    "linear = nn.Linear(3, 3, bias=False)\n",
    "print(sample)\n",
    "print(linear(sample))"
   ]
  },
  {
   "cell_type": "code",
   "execution_count": 43,
   "id": "a99cf4ce-97d0-490e-acbb-1420676868f2",
   "metadata": {},
   "outputs": [
    {
     "name": "stdout",
     "output_type": "stream",
     "text": [
      "tensor([0.0900, 0.2447, 0.6652])\n"
     ]
    }
   ],
   "source": [
    "import torch.nn.functional as F\n",
    "\n",
    "# Create a tensor\n",
    "tensor1 = torch.tensor([1.0, 2.0, 3.0])\n",
    "\n",
    "# Apply softmax using torch.nn.functional.softmax()\n",
    "softmax_output = F.softmax(tensor1, dim=0)\n",
    "\n",
    "print(softmax_output)"
   ]
  },
  {
   "cell_type": "code",
   "execution_count": 44,
   "id": "cea8fc92-4943-4aa6-84bb-bdaf452530cf",
   "metadata": {},
   "outputs": [
    {
     "name": "stdout",
     "output_type": "stream",
     "text": [
      "torch.Size([4, 6])\n",
      "tensor([[ 0.2111, -1.4527,  0.1302,  0.1109, -0.7356, -1.6715],\n",
      "        [ 0.5045,  0.5799, -1.0444, -0.0406,  0.3313, -0.9919],\n",
      "        [ 1.5863, -1.5858,  1.0464, -0.3601,  0.1886, -0.8774],\n",
      "        [ 1.3919,  0.7986, -0.2228, -0.6338,  0.6661, -1.1415]],\n",
      "       grad_fn=<EmbeddingBackward0>)\n"
     ]
    }
   ],
   "source": [
    "# Initialize an embedding layer\n",
    "vocab_size = 80\n",
    "embedding_dim = 6\n",
    "embedding = nn.Embedding(vocab_size, embedding_dim)\n",
    "\n",
    "# Create some input indices\n",
    "input_indices = torch.LongTensor([1, 5, 3, 2])\n",
    "\n",
    "# Apply the embedding layer\n",
    "embedded_output = embedding(input_indices)\n",
    "\n",
    "# The output will be a tensor of shape (4, 100), where 4 is the number of inputs\n",
    "# and 100 is the dimensionality of the embedding vectors\n",
    "print(embedded_output.shape)\n",
    "print(embedded_output)"
   ]
  },
  {
   "cell_type": "code",
   "execution_count": 45,
   "id": "1ecbf36b-31b0-4490-b6cf-8ac0c7d76dba",
   "metadata": {},
   "outputs": [
    {
     "name": "stdout",
     "output_type": "stream",
     "text": [
      "tensor([[ 27,  30,  33],\n",
      "        [ 61,  68,  75],\n",
      "        [ 95, 106, 117]])\n"
     ]
    }
   ],
   "source": [
    "a = torch.tensor([[1,2],[3,4],[5,6]])\n",
    "b = torch.tensor([[7,8,9],[10,11,12]])\n",
    "# print(a @ b)\n",
    "print(torch.matmul(a, b))"
   ]
  },
  {
   "cell_type": "code",
   "execution_count": 46,
   "id": "dcde2117-fb34-4074-a471-7b4872bb2d50",
   "metadata": {},
   "outputs": [
    {
     "name": "stdout",
     "output_type": "stream",
     "text": [
      "tensor([[0., 0., 0.],\n",
      "        [0., 0., 0.],\n",
      "        [0., 0., 0.]])\n"
     ]
    }
   ],
   "source": [
    "int_64 = torch.randint(1, (3, 2)).float()\n",
    "#type int64\n",
    "float_32 = torch.rand(2,3)\n",
    "#type float32\n",
    "# print(int_64.dtype, float_32.dtype)\n",
    "result = torch.matmul(int_64, float_32)\n",
    "print(result)"
   ]
  },
  {
   "cell_type": "code",
   "execution_count": 47,
   "id": "b66f37ea-0fe0-4ddb-bb99-b4038314e48f",
   "metadata": {},
   "outputs": [
    {
     "name": "stdout",
     "output_type": "stream",
     "text": [
      "torch.Size([2, 3, 5])\n",
      "torch.Size([2, 3, 5])\n"
     ]
    }
   ],
   "source": [
    "a = torch.rand(2, 3, 5)\n",
    "print(a.shape)\n",
    "x, y, z = a.shape\n",
    "a = a.view(x,y,z)\n",
    "# print(x, y, z)\n",
    "print(a.shape)"
   ]
  },
  {
   "cell_type": "code",
   "execution_count": 48,
   "id": "70d57a43-3020-48f0-bb51-a8b7695e0dde",
   "metadata": {},
   "outputs": [
    {
     "name": "stdout",
     "output_type": "stream",
     "text": [
      "tensor([[8.3016e-01, 8.3386e-01, 5.6605e-01, 5.2605e-01, 5.6748e-01, 6.2698e-02,\n",
      "         9.3657e-01, 5.8523e-01, 5.3240e-01, 2.6118e-01],\n",
      "        [1.1380e-01, 6.7407e-02, 1.0237e-01, 7.9096e-01, 4.6310e-01, 8.2660e-01,\n",
      "         9.0907e-01, 3.4472e-01, 5.5720e-01, 1.6739e-01],\n",
      "        [1.1727e-01, 4.9318e-01, 8.2314e-01, 6.7495e-01, 4.5070e-01, 6.7606e-01,\n",
      "         4.8640e-01, 3.0441e-01, 9.6438e-01, 7.7040e-01],\n",
      "        [6.8301e-03, 6.9480e-01, 2.9629e-02, 7.0925e-01, 4.3237e-01, 8.5785e-01,\n",
      "         5.6956e-01, 9.2600e-01, 8.8739e-01, 3.6541e-01],\n",
      "        [4.7061e-01, 3.2865e-02, 8.6572e-01, 5.0198e-02, 1.5997e-01, 4.6377e-01,\n",
      "         5.2469e-01, 8.6047e-02, 2.1162e-01, 6.3646e-01],\n",
      "        [3.6074e-01, 9.4591e-02, 6.7293e-01, 5.6271e-02, 9.7992e-02, 7.2103e-01,\n",
      "         3.4107e-01, 7.0662e-01, 1.7016e-01, 8.4827e-01],\n",
      "        [7.8329e-01, 4.3911e-01, 4.6132e-01, 3.9954e-01, 5.9136e-01, 9.8110e-01,\n",
      "         4.9549e-01, 9.2247e-01, 7.7708e-01, 7.6064e-01],\n",
      "        [3.6453e-01, 6.7040e-01, 1.3883e-01, 9.3822e-01, 4.1784e-01, 7.9199e-01,\n",
      "         4.7243e-01, 7.0609e-01, 2.3426e-01, 4.6082e-01],\n",
      "        [7.0472e-01, 4.2442e-01, 2.3804e-01, 7.6554e-01, 2.5691e-01, 5.1611e-01,\n",
      "         9.7113e-01, 7.9201e-01, 6.5241e-02, 5.7592e-01],\n",
      "        [7.8753e-01, 9.0247e-01, 2.0626e-01, 7.4739e-01, 7.1890e-01, 4.8361e-01,\n",
      "         9.1384e-02, 4.5461e-01, 1.8528e-01, 8.2481e-01],\n",
      "        [4.6749e-01, 8.1084e-01, 8.9964e-01, 1.0813e-01, 2.4116e-01, 9.6718e-01,\n",
      "         4.6114e-01, 1.7704e-01, 6.1726e-01, 4.2281e-01],\n",
      "        [1.9391e-01, 6.3248e-01, 4.7388e-01, 4.6315e-01, 2.0286e-01, 3.6650e-01,\n",
      "         3.3594e-01, 6.7527e-01, 4.0460e-04, 5.7557e-01],\n",
      "        [5.0035e-01, 4.6266e-02, 3.0183e-01, 9.5756e-01, 3.4367e-01, 3.3341e-01,\n",
      "         2.7642e-01, 6.5423e-01, 5.6787e-01, 5.0169e-01],\n",
      "        [9.4623e-01, 2.4323e-01, 8.7747e-01, 8.2102e-01, 8.9156e-01, 5.4556e-01,\n",
      "         1.7120e-01, 3.7013e-01, 4.8330e-01, 8.8789e-02],\n",
      "        [9.1422e-01, 4.3021e-01, 1.6654e-01, 8.8671e-01, 1.8688e-01, 1.7399e-01,\n",
      "         8.0817e-01, 9.6943e-01, 6.3567e-01, 5.9299e-01],\n",
      "        [2.0300e-02, 8.8249e-01, 7.0988e-01, 8.0219e-01, 4.3779e-01, 6.3719e-01,\n",
      "         4.3244e-01, 4.0150e-01, 5.7038e-01, 5.8679e-01],\n",
      "        [5.9775e-01, 1.9191e-01, 2.7032e-01, 3.8862e-01, 4.3167e-01, 8.5535e-01,\n",
      "         3.7569e-02, 9.9714e-01, 6.7828e-01, 5.4878e-01],\n",
      "        [1.2881e-04, 4.5703e-01, 6.3696e-01, 1.9992e-01, 1.6069e-01, 7.9391e-01,\n",
      "         6.3087e-01, 3.0895e-02, 4.7940e-01, 2.9984e-01],\n",
      "        [2.2673e-01, 5.9060e-01, 7.2517e-01, 9.4565e-01, 5.3985e-01, 7.4202e-02,\n",
      "         5.2311e-01, 7.0639e-01, 9.6968e-01, 7.2507e-01],\n",
      "        [7.0309e-01, 8.6837e-01, 6.8990e-01, 6.6880e-01, 6.9148e-01, 7.1349e-02,\n",
      "         4.3247e-01, 1.3401e-01, 5.1910e-01, 5.7316e-01],\n",
      "        [3.6339e-01, 1.9219e-01, 1.3060e-01, 8.5406e-01, 7.2135e-01, 8.5920e-01,\n",
      "         9.1799e-01, 6.7274e-01, 3.5959e-01, 7.4486e-01],\n",
      "        [6.3895e-01, 4.7445e-01, 5.8328e-01, 4.2474e-01, 6.0252e-01, 5.5575e-01,\n",
      "         7.6597e-01, 8.4567e-01, 8.2943e-01, 9.4245e-01],\n",
      "        [5.6487e-01, 8.7857e-01, 1.3981e-01, 4.0498e-02, 7.1269e-01, 7.2976e-01,\n",
      "         6.5211e-02, 9.9373e-01, 9.8729e-01, 5.9010e-03],\n",
      "        [4.6970e-01, 5.0721e-01, 9.6410e-01, 2.1664e-01, 4.6752e-01, 2.8446e-01,\n",
      "         5.9600e-01, 3.8029e-01, 4.6170e-01, 9.0134e-01],\n",
      "        [3.5855e-01, 7.5382e-01, 6.9550e-01, 8.2668e-01, 5.4287e-01, 3.9281e-01,\n",
      "         4.3974e-01, 9.6941e-01, 8.4605e-01, 7.7635e-01],\n",
      "        [6.8253e-01, 6.1742e-02, 4.4810e-01, 5.6216e-01, 3.0417e-01, 8.8158e-02,\n",
      "         1.8256e-02, 7.4198e-02, 1.5851e-01, 4.1736e-01],\n",
      "        [7.6375e-01, 3.5427e-01, 8.6416e-01, 5.8541e-01, 2.7620e-01, 5.3721e-02,\n",
      "         5.2125e-01, 8.5676e-01, 4.2129e-01, 9.9738e-01],\n",
      "        [1.5570e-02, 1.2641e-01, 8.2389e-01, 1.5160e-01, 4.1883e-01, 7.0715e-01,\n",
      "         9.1054e-01, 6.1703e-01, 4.6902e-01, 5.6461e-01],\n",
      "        [9.0210e-01, 1.3328e-01, 3.2829e-02, 9.9640e-01, 2.9315e-01, 8.3641e-01,\n",
      "         5.5420e-01, 5.1332e-01, 1.2320e-01, 4.2795e-01],\n",
      "        [1.5394e-01, 8.2368e-02, 2.3582e-01, 3.5613e-01, 7.7172e-01, 7.7181e-01,\n",
      "         7.2364e-02, 2.2821e-01, 7.1358e-01, 7.2996e-01],\n",
      "        [9.8898e-01, 7.4493e-01, 6.2714e-01, 8.3156e-01, 8.1946e-01, 4.4098e-01,\n",
      "         7.5457e-01, 6.7777e-01, 9.5136e-01, 4.1344e-01],\n",
      "        [8.1475e-01, 7.3246e-01, 2.3303e-01, 3.1249e-02, 6.8721e-01, 4.4969e-01,\n",
      "         7.1605e-02, 3.4812e-01, 1.9057e-01, 8.9160e-01]])\n"
     ]
    },
    {
     "ename": "IndexError",
     "evalue": "too many indices for tensor of dimension 2",
     "output_type": "error",
     "traceback": [
      "\u001b[1;31m---------------------------------------------------------------------------\u001b[0m",
      "\u001b[1;31mIndexError\u001b[0m                                Traceback (most recent call last)",
      "Cell \u001b[1;32mIn[48], line 6\u001b[0m\n\u001b[0;32m      4\u001b[0m \u001b[38;5;28mprint\u001b[39m(output)\n\u001b[0;32m      5\u001b[0m \u001b[38;5;66;03m# print(input)\u001b[39;00m\n\u001b[1;32m----> 6\u001b[0m \u001b[38;5;28mprint\u001b[39m(\u001b[43moutput\u001b[49m\u001b[43m[\u001b[49m\u001b[43m:\u001b[49m\u001b[43m,\u001b[49m\u001b[43m \u001b[49m\u001b[38;5;241;43m-\u001b[39;49m\u001b[38;5;241;43m1\u001b[39;49m\u001b[43m,\u001b[49m\u001b[43m \u001b[49m\u001b[43m:\u001b[49m\u001b[43m]\u001b[49m)\n",
      "\u001b[1;31mIndexError\u001b[0m: too many indices for tensor of dimension 2"
     ]
    }
   ],
   "source": [
    "input = torch.rand((4, 8, 10))\n",
    "B, T, C = input.shape\n",
    "output = input.view(B*T, C)\n",
    "print(output)\n",
    "# print(input)\n",
    "print(output[:, -1, :])"
   ]
  },
  {
   "cell_type": "code",
   "execution_count": 49,
   "id": "b58aba0d-26ec-4f64-b1ab-0f144f85261c",
   "metadata": {},
   "outputs": [
    {
     "name": "stdout",
     "output_type": "stream",
     "text": [
      "tensor([1.])\n"
     ]
    }
   ],
   "source": [
    "x = torch.tensor([10], dtype=torch.float32)\n",
    "y = F.tanh(x)\n",
    "print(y)"
   ]
  },
  {
   "cell_type": "code",
   "execution_count": null,
   "id": "097005a6-4bec-4631-b75f-731ff85d4b67",
   "metadata": {},
   "outputs": [],
   "source": []
  }
 ],
 "metadata": {
  "kernelspec": {
   "display_name": "cuda-gpt",
   "language": "python",
   "name": "cuda"
  },
  "language_info": {
   "codemirror_mode": {
    "name": "ipython",
    "version": 3
   },
   "file_extension": ".py",
   "mimetype": "text/x-python",
   "name": "python",
   "nbconvert_exporter": "python",
   "pygments_lexer": "ipython3",
   "version": "3.11.7"
  }
 },
 "nbformat": 4,
 "nbformat_minor": 5
}
