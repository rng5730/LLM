{
 "cells": [
  {
   "cell_type": "code",
   "execution_count": 58,
   "id": "4192a55e-79f5-42ef-9d11-4ba9aba4722c",
   "metadata": {},
   "outputs": [
    {
     "name": "stdout",
     "output_type": "stream",
     "text": [
      "cuda\n"
     ]
    }
   ],
   "source": [
    "import torch\n",
    "import torch.nn as nn\n",
    "from torch.nn import functional as F\n",
    "device = 'cuda' if torch.cuda.is_available() else 'cpu'\n",
    "print(device)\n",
    "\n",
    "# if print results in 'cuda' means GPU can be used to process parallel processes\n",
    "\n",
    "block_size = 8\n",
    "batch_size = 4\n",
    "max_iters = 50000\n",
    "# eval_interval = 2500\n",
    "learning_rate = 3e-4\n",
    "eval_iters = 5000"
   ]
  },
  {
   "cell_type": "code",
   "execution_count": 59,
   "id": "15a9b127-0ffc-444a-a2fc-843e0d6268ea",
   "metadata": {},
   "outputs": [
    {
     "name": "stdout",
     "output_type": "stream",
     "text": [
      "['\\n', ' ', '!', '\"', '&', \"'\", '(', ')', '*', ',', '-', '.', '0', '1', '2', '3', '4', '5', '6', '7', '8', '9', ':', ';', '?', 'A', 'B', 'C', 'D', 'E', 'F', 'G', 'H', 'I', 'J', 'K', 'L', 'M', 'N', 'O', 'P', 'Q', 'R', 'S', 'T', 'U', 'V', 'W', 'X', 'Y', 'Z', '[', ']', '_', 'a', 'b', 'c', 'd', 'e', 'f', 'g', 'h', 'i', 'j', 'k', 'l', 'm', 'n', 'o', 'p', 'q', 'r', 's', 't', 'u', 'v', 'w', 'x', 'y', 'z', '\\ufeff']\n"
     ]
    }
   ],
   "source": [
    "with open('wizard_of_oz.txt', 'r', encoding='utf-8') as f:\n",
    "    text = f.read()\n",
    "\n",
    "# All the chars in the text\n",
    "chars = sorted(set(text))\n",
    "print(chars)\n",
    "vocab_size = len(chars)"
   ]
  },
  {
   "cell_type": "code",
   "execution_count": 60,
   "id": "ad3ad1d2-4a08-4481-9cd5-da869aeb413e",
   "metadata": {},
   "outputs": [],
   "source": [
    "#Tokenizer\n",
    "\n",
    "string_to_int = { ch:i for i,ch in enumerate(chars) }\n",
    "int_to_string = { i:ch for i,ch in enumerate(chars) }\n",
    "encode = lambda s: [string_to_int[c] for c in s]\n",
    "decode = lambda l: ''.join([int_to_string[i] for i in l])\n",
    "\n",
    "data = torch.tensor(encode(text), dtype=torch.long)\n",
    "# print(data[:100])"
   ]
  },
  {
   "cell_type": "code",
   "execution_count": 61,
   "id": "7c32e909-484f-4fb7-af14-129b6a3f02ec",
   "metadata": {},
   "outputs": [
    {
     "name": "stdout",
     "output_type": "stream",
     "text": [
      "inputs:\n",
      "tensor([[58,  1, 68, 59,  1, 46, 68, 58],\n",
      "        [72, 72, 62, 68, 67,  1, 66, 68],\n",
      "        [58, 57,  1, 73, 61, 58,  1, 67],\n",
      "        [72, 64, 58, 57,  1, 73, 61, 58]], device='cuda:0')\n",
      "targets:\n",
      "tensor([[ 1, 68, 59,  1, 46, 68, 58,  1],\n",
      "        [72, 62, 68, 67,  1, 66, 68, 75],\n",
      "        [57,  1, 73, 61, 58,  1, 67, 62],\n",
      "        [64, 58, 57,  1, 73, 61, 58,  1]], device='cuda:0')\n"
     ]
    }
   ],
   "source": [
    "#Train and evaluate results parameters\n",
    "\n",
    "n = int(0.8*len(data))\n",
    "train_data = data[:n]\n",
    "val_data = data[n:]\n",
    "\n",
    "def get_batch(split):\n",
    "    data = train_data if split == 'train' else val_data\n",
    "    ix = torch.randint(len(data) - block_size, (batch_size,))\n",
    "    x = torch.stack([data[i:i+block_size] for i in ix])\n",
    "    y = torch.stack([data[i+1:i+block_size+1] for i in ix])\n",
    "    x, y = x.to(device), y.to(device)\n",
    "    return x, y\n",
    "\n",
    "x, y = get_batch('train')\n",
    "print('inputs:')\n",
    "# print(x.shape)\n",
    "print(x)\n",
    "print('targets:')\n",
    "print(y)\n"
   ]
  },
  {
   "cell_type": "code",
   "execution_count": 62,
   "id": "a520ce20-4adc-422b-8864-4b35f36e417a",
   "metadata": {},
   "outputs": [],
   "source": [
    "@torch.no_grad()\n",
    "def estimate_loss():\n",
    "    out = {}\n",
    "    model.eval()\n",
    "    for split in ['train', 'val']:\n",
    "        losses = torch.zeros(eval_iters)\n",
    "        for k in range(eval_iters):\n",
    "            X, Y = get_batch(split)\n",
    "            logits, loss = model(X, Y)\n",
    "            losses[k] = loss.item()\n",
    "        out[split] = losses.mean()\n",
    "    model.train()\n",
    "    return out"
   ]
  },
  {
   "cell_type": "code",
   "execution_count": 63,
   "id": "79f52937-18ae-42db-96f2-91d63aee3924",
   "metadata": {},
   "outputs": [
    {
     "name": "stdout",
     "output_type": "stream",
     "text": [
      "\n",
      "18﻿;)mv[zGAxD!P'.9)gUe;nzqR&Dk.u RK3729i1B4YD_,zz)7Di.ywSYynuxgoP6vyZYkp&z3Jjmv0('1-.siaTu-]9oSb*﻿P\")G0J&W2LR;BjX\n",
      "tH4c_Bu﻿ iVJVNeqk)t(Odd?hN[hLoSQIpcazo!\"ZSrDVb6PrO]?'VKsx3Qx[k32\"))W2680Kkix7[Jme N?r48r:lZ,?0qeCPsbVnOH5\"EyWnxp;F9oJyP.[0:bnWw﻿ynqMmz)7j?bR':au?H!fSf-zkS.zuysiv8B!mv,r]u i!- ?DAa]*VT\"SfVX2j*B-a LknO?rD5*d;Jg4gB3C'2Gi]_E,Dwn.-hdhf;6SJ6]hpK﻿Gq&U!Z*tpX:&Xb*a zsjv﻿).\n",
      "'kA&8rW-a5kZ\"_&AwZE,3nb3oSv;g\n",
      "5kPpSc&\n",
      "Uu[S7j*,yn6T1-MS\"caktN:NS;nNUSKjb4X\"gSb[e43DAA4qd.z8Jt,qa&kkPgQ*,Fs:Sz\"*UZX2\"F7zH\n",
      "E\n"
     ]
    }
   ],
   "source": [
    "class BigramLanguageModel(nn.Module):\n",
    "    def __init__(self, vocab_size):\n",
    "        super().__init__()\n",
    "        self.token_embedding_table = nn.Embedding(vocab_size, vocab_size)\n",
    "        \n",
    "    def forward(self, index, targets=None):\n",
    "        logits = self.token_embedding_table(index)\n",
    "        \n",
    "        \n",
    "        if targets is None:\n",
    "            loss = None\n",
    "        else:\n",
    "            B, T, C = logits.shape\n",
    "            logits = logits.view(B*T, C)\n",
    "            targets = targets.view(B*T)\n",
    "            loss = F.cross_entropy(logits, targets)\n",
    "        \n",
    "        return logits, loss\n",
    "    \n",
    "    def generate(self, index, max_new_tokens):\n",
    "        # index is (B, T) array of indices in the current context\n",
    "        for _ in range(max_new_tokens):\n",
    "            # get the predictions\n",
    "            logits, loss = self.forward(index)\n",
    "            # focus only on the last time step\n",
    "            logits = logits[:, -1, :] # becomes (B, C)\n",
    "            # apply softmax to get probabilities\n",
    "            probs = F.softmax(logits, dim=-1) # (B, C)\n",
    "            # sample from the distribution\n",
    "            index_next = torch.multinomial(probs, num_samples=1) # (B, 1)\n",
    "            # append sampled index to the running sequence\n",
    "            index = torch.cat((index, index_next), dim=1) # (B, T+1)\n",
    "        return index\n",
    "\n",
    "model = BigramLanguageModel(vocab_size)\n",
    "m = model.to(device)\n",
    "\n",
    "context = torch.zeros((1,1), dtype=torch.long, device=device)\n",
    "generated_chars = decode(m.generate(context, max_new_tokens=500)[0].tolist())\n",
    "print(generated_chars)"
   ]
  },
  {
   "cell_type": "code",
   "execution_count": 64,
   "id": "d36b8b0c-5907-459f-84cd-51af43d11e5e",
   "metadata": {},
   "outputs": [
    {
     "name": "stdout",
     "output_type": "stream",
     "text": [
      "step: 0, train loss: 4.883, val loss: 4.875\n",
      "step: 5000, train loss: 3.819, val loss: 3.823\n",
      "step: 10000, train loss: 3.166, val loss: 3.181\n",
      "step: 15000, train loss: 2.819, val loss: 2.842\n",
      "step: 20000, train loss: 2.649, val loss: 2.676\n",
      "step: 25000, train loss: 2.564, val loss: 2.594\n",
      "step: 30000, train loss: 2.514, val loss: 2.555\n",
      "step: 35000, train loss: 2.489, val loss: 2.524\n",
      "step: 40000, train loss: 2.471, val loss: 2.510\n",
      "step: 45000, train loss: 2.458, val loss: 2.504\n",
      "2.3776614665985107\n"
     ]
    }
   ],
   "source": [
    "# create a PyTorch optimizer\n",
    "optimizer = torch.optim.AdamW(model.parameters(), lr=learning_rate)\n",
    "\n",
    "for iter in range(max_iters):\n",
    "    if iter % eval_iters == 0:\n",
    "        losses = estimate_loss()\n",
    "        print(f\"step: {iter}, train loss: {losses['train']:.3f}, val loss: {losses['val']:.3f}\")\n",
    "\n",
    "    # sample a batch of data\n",
    "    xb, yb = get_batch('train')\n",
    "\n",
    "    # evaluate the loss\n",
    "    logits, loss = model.forward(xb, yb)\n",
    "    optimizer.zero_grad(set_to_none=True)\n",
    "    loss.backward()\n",
    "    optimizer.step()\n",
    "print(loss.item())"
   ]
  },
  {
   "cell_type": "code",
   "execution_count": 65,
   "id": "ac17c804-7d61-4e0c-8eff-178bf04b25fa",
   "metadata": {},
   "outputs": [
    {
     "name": "stdout",
     "output_type": "stream",
     "text": [
      "\n",
      " iguar?\"\n",
      "ly nis barmail ug t Wo?\" s, t.\n",
      "\"\n",
      "\n",
      "\n",
      "of co oud t. EBMreando ld.\"\n",
      "\"Thed d ased wero mytheswr asaf th w se n wofomo s h te ceald ce.\n",
      "e Pin, agor.'s Moy ye f trsanthembe'he t scis ny,2\" othe w y, h  f aloon ahen emerld heghe tt.\n",
      "pomo whedino thend; fo\n",
      "ndord ched tscouanu\n",
      "t hele is, bed bit w im y as gesend otho wim-ad cre\n",
      "\n",
      "he y ebun mst MO jem.\n",
      "[0Gok YRASwothasee is, ath hove An \" tr ay  aveme Ljt t thir and d sounowinlofo he t ary ar b, ul  WUut \"Inu ane chan th.\"in'thrcangimo hanus he ched\n"
     ]
    }
   ],
   "source": [
    "context = torch.zeros((1,1), dtype=torch.long, device=device)\n",
    "generated_chars = decode(m.generate(context, max_new_tokens=500)[0].tolist())\n",
    "print(generated_chars)"
   ]
  },
  {
   "cell_type": "code",
   "execution_count": null,
   "id": "931f7a77-7589-4a0d-9ea0-6c9079e9e73f",
   "metadata": {},
   "outputs": [],
   "source": []
  }
 ],
 "metadata": {
  "kernelspec": {
   "display_name": "cuda-gpt",
   "language": "python",
   "name": "cuda"
  },
  "language_info": {
   "codemirror_mode": {
    "name": "ipython",
    "version": 3
   },
   "file_extension": ".py",
   "mimetype": "text/x-python",
   "name": "python",
   "nbconvert_exporter": "python",
   "pygments_lexer": "ipython3",
   "version": "3.11.7"
  }
 },
 "nbformat": 4,
 "nbformat_minor": 5
}
